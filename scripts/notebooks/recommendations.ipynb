{
 "cells": [
  {
   "cell_type": "markdown",
   "metadata": {},
   "source": [
    "# 🎬 Movie Recommendation Engine (Content-Based Filtering)\n",
    "\n",
    "This notebook builds a basic content-based movie recommender using genres from the MovieLens 100K dataset."
   ]
  },
  {
   "cell_type": "code",
   "execution_count": 1,
   "metadata": {},
   "outputs": [],
   "source": [
    "import pandas as pd\n",
    "from sklearn.feature_extraction.text import TfidfVectorizer\n",
    "from sklearn.metrics.pairwise import cosine_similarity\n",
    "import numpy as np\n",
    "from dotenv import load_dotenv\n",
    "import os\n",
    "from sqlalchemy import create_engine\n",
    "import sys \n",
    "from urllib.parse import quote_plus\n",
    "from pathlib import Path\n",
    "\n",
    "\n",
    "# Add the config file's parent directory to sys.path\n",
    "sys.path.append(os.path.abspath(\"/Users/atharvagurav/Documents/movie-recommendation-system\"))\n",
    "\n",
    "import config"
   ]
  },
  {
   "cell_type": "code",
   "execution_count": 2,
   "metadata": {},
   "outputs": [],
   "source": [
    "# # Load environment variables from .env file\n",
    "# load_dotenv()\n",
    "\n",
    "# Convert DB_PORT to an integer\n",
    "DB_PORT = int(config.DB_PORT)\n",
    "encoded_DB_PASSWORD = quote_plus(config.DB_PASSWORD)\n",
    "\n",
    "DATABASE_URL = f\"postgresql://{config.DB_USER}:{encoded_DB_PASSWORD}@{config.DB_HOST}:{DB_PORT}/{config.DB_NAME}\"\n",
    "\n",
    "engine = create_engine(DATABASE_URL)"
   ]
  },
  {
   "cell_type": "code",
   "execution_count": 3,
   "metadata": {},
   "outputs": [],
   "source": [
    "# Load data from database\n",
    "movies = pd.read_sql(\"SELECT movie_id, title, genre FROM movies\", engine)\n",
    "ratings = pd.read_sql(\"SELECT user_id, movie_id, rating FROM ratings\", engine)\n",
    "\n",
    "# Merge for convenience (ratings + movie info)\n",
    "merged = ratings.merge(movies, on=\"movie_id\")\n",
    "\n",
    "# Save data to CSV (optional)\n",
    "Path(\"data_csv\").mkdir(exist_ok=True)\n",
    "movies.to_csv(\"data_csv/movies.csv\", index=False)\n",
    "ratings.to_csv(\"data_csv/ratings.csv\", index=False)\n",
    "merged.to_csv(\"data_csv/merged_data.csv\", index=False)"
   ]
  },
  {
   "cell_type": "code",
   "execution_count": 4,
   "metadata": {},
   "outputs": [],
   "source": [
    "# # Step 1: Get unique movies and reset index BEFORE building the similarity matrix\n",
    "# movies = merged[['movie_id', 'title', 'genre']].drop_duplicates().reset_index(drop=True)\n",
    "\n",
    "# # Step 2: Rebuild vectorizer + similarity matrix from the fresh list\n",
    "# tfidf = TfidfVectorizer(tokenizer=lambda x: x.split(', '))\n",
    "# tfidf_matrix = tfidf.fit_transform(movies['genre'])\n",
    "\n",
    "# # Step 3: Recompute cosine similarity\n",
    "# cosine_sim = cosine_similarity(tfidf_matrix, tfidf_matrix)\n",
    "\n",
    "# # Step 4: Rebuild movie title → index mapping\n",
    "# movie_indices = pd.Series(movies.index, index=movies['title']).drop_duplicates()\n"
   ]
  },
  {
   "cell_type": "code",
   "execution_count": 5,
   "metadata": {},
   "outputs": [],
   "source": [
    "# movies"
   ]
  },
  {
   "cell_type": "code",
   "execution_count": 6,
   "metadata": {},
   "outputs": [],
   "source": [
    "# merged.head()"
   ]
  },
  {
   "cell_type": "code",
   "execution_count": 7,
   "metadata": {},
   "outputs": [],
   "source": [
    "# # movies = movies(drop=True)\n",
    "\n",
    "# # Map movie titles to indices\n",
    "# movie_indices = pd.Series(movies.index, index=movies['title']).drop_duplicates()\n"
   ]
  },
  {
   "cell_type": "code",
   "execution_count": 8,
   "metadata": {},
   "outputs": [],
   "source": [
    "# # Recommend similar movies based on a given title\n",
    "# def recommend_movies(title, num_recommendations=5):\n",
    "#     if title not in movie_indices:\n",
    "#         return f\"\\u274c '{title}' not found in movie list.\"\n",
    "\n",
    "#     try:\n",
    "#         idx = int(movie_indices[title])\n",
    "#         sim_scores = list(enumerate(cosine_sim[idx]))\n",
    "#         sim_scores = sorted(sim_scores, key=lambda x: x[1], reverse=True)\n",
    "#         sim_scores = sim_scores[1:num_recommendations + 1]  # Skip self\n",
    "\n",
    "#         movie_indices_list = [i[0] for i in sim_scores if i[0] < len(movies)]\n",
    "#         return movies.iloc[movie_indices_list][['title', 'genre']]\n",
    "#     except IndexError:\n",
    "#         return f\"❌ Index error for title: {title}\""
   ]
  },
  {
   "cell_type": "code",
   "execution_count": 9,
   "metadata": {},
   "outputs": [],
   "source": [
    "# recommend_movies(\"GoldenEye (1995)\")\n"
   ]
  },
  {
   "cell_type": "code",
   "execution_count": 10,
   "metadata": {},
   "outputs": [],
   "source": [
    "# movies['title'].sample(10).tolist()\n"
   ]
  },
  {
   "cell_type": "code",
   "execution_count": 11,
   "metadata": {},
   "outputs": [],
   "source": [
    "# # Recommend movies based on a user's top-rated titles\n",
    "# def recommend_for_user(user_id, top_n_movies=3, recs_per_movie=2):\n",
    "#     top_movies = merged[(merged['user_id'] == user_id) & (merged['rating'] >= 4)]['title'].head(top_n_movies)\n",
    "#     recommendations = pd.DataFrame()\n",
    "\n",
    "#     for title in top_movies:\n",
    "#         recs = recommend_movies(title, num_recommendations=recs_per_movie)\n",
    "#         if isinstance(recs, pd.DataFrame):\n",
    "#             recommendations = pd.concat([recommendations, recs])\n",
    "\n",
    "#     return recommendations.drop_duplicates(subset='title').reset_index(drop=True)\n"
   ]
  },
  {
   "cell_type": "code",
   "execution_count": 12,
   "metadata": {},
   "outputs": [],
   "source": [
    "# print(recommend_movies(\"GoldenEye (1995)\"))\n",
    "# print(recommend_for_user(10))"
   ]
  },
  {
   "cell_type": "code",
   "execution_count": 13,
   "metadata": {},
   "outputs": [],
   "source": [
    "# def recommend_for_user_weighted(user_id, recs_total=10):\n",
    "#     # Get all movies user has rated highly\n",
    "#     user_ratings = merged[(merged['user_id'] == user_id) & (merged['rating'] >= 3)]\n",
    "    \n",
    "#     if user_ratings.empty:\n",
    "#         return f\"⚠️ No high-rated movies found for user {user_id}.\"\n",
    "    \n",
    "#     # Initialize an empty score array\n",
    "#     scores = np.zeros(cosine_sim.shape[0])\n",
    "    \n",
    "#     # Loop through each liked movie\n",
    "#     for _, row in user_ratings.iterrows():\n",
    "#         title = row['title']\n",
    "#         rating = row['rating']\n",
    "        \n",
    "#         if title in movie_indices:\n",
    "#             idx = movie_indices[title]\n",
    "#             if isinstance(idx, pd.Series):\n",
    "#                 idx = idx.iloc[0]\n",
    "#             idx = int(idx)\n",
    "            \n",
    "#             similarity_scores = np.array(cosine_sim[idx]).flatten()\n",
    "#             scores += similarity_scores * rating\n",
    "\n",
    "\n",
    "#     # Get indices of top recommendations\n",
    "#     user_seen_indices = [movie_indices[title] for title in user_ratings['title'] if title in movie_indices]\n",
    "#     scores[user_seen_indices] = 0  # Mask out already seen movies\n",
    "\n",
    "#     top_indices = scores.argsort()[::-1][:recs_total]\n",
    "#     recommended_movies = movies.iloc[top_indices][['title', 'genre']].reset_index(drop=True)\n",
    "    \n",
    "#     return recommended_movies\n"
   ]
  },
  {
   "cell_type": "code",
   "execution_count": 14,
   "metadata": {},
   "outputs": [],
   "source": [
    "# print(recommend_for_user_weighted(user_id=10))\n"
   ]
  },
  {
   "cell_type": "code",
   "execution_count": null,
   "metadata": {},
   "outputs": [],
   "source": []
  },
  {
   "cell_type": "code",
   "execution_count": 15,
   "metadata": {},
   "outputs": [
    {
     "name": "stderr",
     "output_type": "stream",
     "text": [
      "/Users/atharvagurav/Documents/movie-recommendation-system/venv/lib/python3.12/site-packages/sklearn/feature_extraction/text.py:517: UserWarning: The parameter 'token_pattern' will not be used since 'tokenizer' is not None'\n",
      "  warnings.warn(\n"
     ]
    }
   ],
   "source": [
    "# Compute movie-level stats\n",
    "movie_stats = merged.groupby('title').agg({\n",
    "    'rating': ['mean', 'count']\n",
    "}).reset_index()\n",
    "movie_stats.columns = ['title', 'avg_rating', 'rating_count']\n",
    "\n",
    "# Join movie stats back into movies\n",
    "movies = movies.merge(movie_stats, on='title')\n",
    "\n",
    "# Vectorize genres using TF-IDF\n",
    "tfidf = TfidfVectorizer(tokenizer=lambda x: x.split(', '))\n",
    "tfidf_matrix = tfidf.fit_transform(movies['genre'])\n",
    "\n",
    "# Compute similarity matrix\n",
    "cosine_sim = cosine_similarity(tfidf_matrix, tfidf_matrix)\n",
    "\n",
    "# Map movie titles to indices\n",
    "movie_indices = pd.Series(movies.index, index=movies['title']).drop_duplicates()"
   ]
  },
  {
   "cell_type": "code",
   "execution_count": 34,
   "metadata": {},
   "outputs": [],
   "source": [
    "\n",
    "\n",
    "# Recommend similar movies based on a given title\n",
    "def recommend_movies(title, num_recommendations=5):\n",
    "    if title not in movie_indices:\n",
    "        return f\"\\u274c '{title}' not found in movie list.\"\n",
    "\n",
    "    try:\n",
    "        idx = movie_indices[title]\n",
    "        if isinstance(idx, pd.Series):\n",
    "            idx = idx.iloc[0]\n",
    "        idx = int(idx)\n",
    "\n",
    "        sim_scores = list(enumerate(cosine_sim[idx]))\n",
    "        sim_scores = sorted(sim_scores, key=lambda x: x[1], reverse=True)\n",
    "        sim_scores = sim_scores[1:num_recommendations + 1]  # Skip self\n",
    "\n",
    "        movie_indices_list = [i[0] for i in sim_scores if i[0] < len(movies)]\n",
    "        return movies.iloc[movie_indices_list][['title', 'genre', 'avg_rating', 'rating_count']]\n",
    "    except IndexError:\n",
    "        return f\"❌ Index error for title: {title}\"\n",
    "\n",
    "# Recommend movies based on a user's top-rated titles\n",
    "def recommend_for_user(user_id, top_n_movies=3, recs_per_movie=3):\n",
    "    top_movies = merged[(merged['user_id'] == user_id) & (merged['rating'] >= 4)]['title'].head(top_n_movies)\n",
    "    recommendations = pd.DataFrame()\n",
    "\n",
    "    for title in top_movies:\n",
    "        recs = recommend_movies(title, num_recommendations=recs_per_movie)\n",
    "        if isinstance(recs, pd.DataFrame):\n",
    "            recommendations = pd.concat([recommendations, recs])\n",
    "\n",
    "    return recommendations.drop_duplicates(subset='title').reset_index(drop=True)\n",
    "\n",
    "# Global popularity-aware recommendation using similarity + crowd wisdom\n",
    "def recommend_for_user_global(user_id, top_n_movies=3, recs_total=10):\n",
    "    user_seen = merged[merged['user_id'] == user_id]['title'].unique()\n",
    "    user_top = merged[(merged['user_id'] == user_id) & (merged['rating'] >= 4)]['title'].head(top_n_movies)\n",
    "\n",
    "    scores = np.zeros(cosine_sim.shape[0])\n",
    "\n",
    "    for title in user_top:\n",
    "        if title in movie_indices:\n",
    "            idx = movie_indices[title]\n",
    "            if isinstance(idx, pd.Series):\n",
    "                idx = idx.iloc[0]\n",
    "            idx = int(idx)\n",
    "            similarity_scores = np.array(cosine_sim[idx]).flatten()\n",
    "            scores += similarity_scores\n",
    "\n",
    "    # Normalize scores by popularity (use avg_rating * log(rating_count))\n",
    "    popularity = np.log1p(movies['rating_count']) * movies['avg_rating']\n",
    "    scores = scores * popularity\n",
    "\n",
    "    # Remove already seen\n",
    "    seen_indices = [movie_indices[title].iloc[0] if isinstance(movie_indices[title], pd.Series) else movie_indices[title] for title in user_seen if title in movie_indices]\n",
    "    scores[seen_indices] = 0\n",
    "\n",
    "    top_indices = scores.argsort()[::-1][:recs_total]\n",
    "    return movies.iloc[top_indices][['title', 'genre', 'avg_rating', 'rating_count']].reset_index(drop=True)\n"
   ]
  },
  {
   "cell_type": "code",
   "execution_count": 35,
   "metadata": {},
   "outputs": [
    {
     "name": "stdout",
     "output_type": "stream",
     "text": [
      "                               title                                genre  \\\n",
      "0       Devil in a Blue Dress (1995)  Crime, Film-Noir, Mystery, Thriller   \n",
      "1                       Laura (1944)            Crime, Film-Noir, Mystery   \n",
      "2                   Chinatown (1974)         Film-Noir, Mystery, Thriller   \n",
      "3                Time Tracers (1995)            Action, Adventure, Sci-Fi   \n",
      "4                 Judge Dredd (1995)            Action, Adventure, Sci-Fi   \n",
      "5      Star Trek: Generations (1994)            Action, Adventure, Sci-Fi   \n",
      "6                    Only You (1994)                      Comedy, Romance   \n",
      "7           Perez Family, The (1995)                      Comedy, Romance   \n",
      "8  Pyromaniac's Love Story, A (1995)                      Comedy, Romance   \n",
      "\n",
      "   avg_rating  rating_count  \n",
      "0    3.385965            57  \n",
      "1    4.100000            40  \n",
      "2    4.136054           147  \n",
      "3    1.500000             2  \n",
      "4    2.897436            39  \n",
      "5    3.336207           116  \n",
      "6    3.153846            39  \n",
      "7    2.642857            14  \n",
      "8    2.428571             7  \n"
     ]
    }
   ],
   "source": [
    "# Example usage\n",
    "# print(recommend_movies(\"Devil in a Blue Dress (1995)\"))\n",
    "print(recommend_for_user(15))\n",
    "\n"
   ]
  },
  {
   "cell_type": "code",
   "execution_count": 36,
   "metadata": {},
   "outputs": [
    {
     "name": "stdout",
     "output_type": "stream",
     "text": [
      "                                title  \\\n",
      "0          Princess Bride, The (1987)   \n",
      "1      When Harry Met Sally... (1989)   \n",
      "2                Groundhog Day (1993)   \n",
      "3       Much Ado About Nothing (1993)   \n",
      "4                    True Lies (1994)   \n",
      "5                   Annie Hall (1977)   \n",
      "6  Four Weddings and a Funeral (1994)   \n",
      "7     Empire Strikes Back, The (1980)   \n",
      "8      Philadelphia Story, The (1940)   \n",
      "9         Sleepless in Seattle (1993)   \n",
      "\n",
      "                                            genre  avg_rating  rating_count  \n",
      "0              Action, Adventure, Comedy, Romance    4.172840           324  \n",
      "1                                 Comedy, Romance    3.910345           290  \n",
      "2                                 Comedy, Romance    3.764286           280  \n",
      "3                                 Comedy, Romance    4.062500           176  \n",
      "4              Action, Adventure, Comedy, Romance    3.562500           208  \n",
      "5                                 Comedy, Romance    3.911111           180  \n",
      "6                                 Comedy, Romance    3.661355           251  \n",
      "7  Action, Adventure, Drama, Romance, Sci-Fi, War    4.204360           367  \n",
      "8                                 Comedy, Romance    4.115385           104  \n",
      "9                                 Comedy, Romance    3.539906           213  \n"
     ]
    }
   ],
   "source": [
    "print(recommend_for_user_global(15))"
   ]
  },
  {
   "cell_type": "code",
   "execution_count": null,
   "metadata": {},
   "outputs": [],
   "source": []
  }
 ],
 "metadata": {
  "kernelspec": {
   "display_name": "venv",
   "language": "python",
   "name": "python3"
  },
  "language_info": {
   "codemirror_mode": {
    "name": "ipython",
    "version": 3
   },
   "file_extension": ".py",
   "mimetype": "text/x-python",
   "name": "python",
   "nbconvert_exporter": "python",
   "pygments_lexer": "ipython3",
   "version": "3.12.3"
  }
 },
 "nbformat": 4,
 "nbformat_minor": 2
}
